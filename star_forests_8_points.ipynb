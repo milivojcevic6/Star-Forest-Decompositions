{
  "cells": [
    {
      "cell_type": "markdown",
      "metadata": {
        "id": "Lsl-TFvcqWH3"
      },
      "source": [
        "# **Libraries**"
      ]
    },
    {
      "cell_type": "code",
      "execution_count": null,
      "metadata": {
        "id": "9-L9j1l32kHh"
      },
      "outputs": [],
      "source": [
        "import pandas as pd\n",
        "import requests\n",
        "from io import BytesIO\n",
        "import numpy as np\n",
        "import matplotlib.pyplot as plt\n",
        "import networkx as nx\n",
        "import itertools\n",
        "import more_itertools"
      ]
    },
    {
      "cell_type": "markdown",
      "metadata": {
        "id": "IU-GYTwu46Y0"
      },
      "source": [
        "# **Reading the data**"
      ]
    },
    {
      "cell_type": "code",
      "execution_count": null,
      "metadata": {
        "id": "BzNXo8ic3MN4"
      },
      "outputs": [],
      "source": [
        "def read_order_types_for_df(file_content):\n",
        "    dtype = 'uint8'\n",
        "    points = file_content.reshape(-1, 2)\n",
        "    df = pd.DataFrame(points, columns=['x', 'y'], dtype=dtype)\n",
        "    return df\n",
        "\n",
        "def read_order_types(file_content):\n",
        "    dtype = 'uint8'\n",
        "    points = file_content.reshape(-1, 2)\n",
        "    return points"
      ]
    },
    {
      "cell_type": "code",
      "execution_count": null,
      "metadata": {
        "id": "_zGeBZRA3QPv"
      },
      "outputs": [],
      "source": [
        "file_url = \"http://www.ist.tugraz.at/staff/aichholzer/research/rp/triangulations/ordertypes/data/otypes08.b08\"\n",
        "\n",
        "# downloading set points\n",
        "response = requests.get(file_url)\n",
        "file_content = response.content\n",
        "\n",
        "# Use BytesIO to create a file-like object from the bytes content\n",
        "file_like_object = BytesIO(file_content)"
      ]
    },
    {
      "cell_type": "code",
      "execution_count": null,
      "metadata": {
        "colab": {
          "base_uri": "https://localhost:8080/",
          "height": 206
        },
        "id": "RV0rpKEm3fXN",
        "outputId": "5ae9412e-91a1-4aa9-f611-5cea0ff4dc05"
      },
      "outputs": [
        {
          "output_type": "execute_result",
          "data": {
            "text/plain": [
              "     x   y\n",
              "0  218  48\n",
              "1  157  54\n",
              "2   88  66\n",
              "3   76  72\n",
              "4   61  90"
            ],
            "text/html": [
              "\n",
              "  <div id=\"df-d0371195-fd39-4890-8510-4af063d20668\" class=\"colab-df-container\">\n",
              "    <div>\n",
              "<style scoped>\n",
              "    .dataframe tbody tr th:only-of-type {\n",
              "        vertical-align: middle;\n",
              "    }\n",
              "\n",
              "    .dataframe tbody tr th {\n",
              "        vertical-align: top;\n",
              "    }\n",
              "\n",
              "    .dataframe thead th {\n",
              "        text-align: right;\n",
              "    }\n",
              "</style>\n",
              "<table border=\"1\" class=\"dataframe\">\n",
              "  <thead>\n",
              "    <tr style=\"text-align: right;\">\n",
              "      <th></th>\n",
              "      <th>x</th>\n",
              "      <th>y</th>\n",
              "    </tr>\n",
              "  </thead>\n",
              "  <tbody>\n",
              "    <tr>\n",
              "      <th>0</th>\n",
              "      <td>218</td>\n",
              "      <td>48</td>\n",
              "    </tr>\n",
              "    <tr>\n",
              "      <th>1</th>\n",
              "      <td>157</td>\n",
              "      <td>54</td>\n",
              "    </tr>\n",
              "    <tr>\n",
              "      <th>2</th>\n",
              "      <td>88</td>\n",
              "      <td>66</td>\n",
              "    </tr>\n",
              "    <tr>\n",
              "      <th>3</th>\n",
              "      <td>76</td>\n",
              "      <td>72</td>\n",
              "    </tr>\n",
              "    <tr>\n",
              "      <th>4</th>\n",
              "      <td>61</td>\n",
              "      <td>90</td>\n",
              "    </tr>\n",
              "  </tbody>\n",
              "</table>\n",
              "</div>\n",
              "    <div class=\"colab-df-buttons\">\n",
              "\n",
              "  <div class=\"colab-df-container\">\n",
              "    <button class=\"colab-df-convert\" onclick=\"convertToInteractive('df-d0371195-fd39-4890-8510-4af063d20668')\"\n",
              "            title=\"Convert this dataframe to an interactive table.\"\n",
              "            style=\"display:none;\">\n",
              "\n",
              "  <svg xmlns=\"http://www.w3.org/2000/svg\" height=\"24px\" viewBox=\"0 -960 960 960\">\n",
              "    <path d=\"M120-120v-720h720v720H120Zm60-500h600v-160H180v160Zm220 220h160v-160H400v160Zm0 220h160v-160H400v160ZM180-400h160v-160H180v160Zm440 0h160v-160H620v160ZM180-180h160v-160H180v160Zm440 0h160v-160H620v160Z\"/>\n",
              "  </svg>\n",
              "    </button>\n",
              "\n",
              "  <style>\n",
              "    .colab-df-container {\n",
              "      display:flex;\n",
              "      gap: 12px;\n",
              "    }\n",
              "\n",
              "    .colab-df-convert {\n",
              "      background-color: #E8F0FE;\n",
              "      border: none;\n",
              "      border-radius: 50%;\n",
              "      cursor: pointer;\n",
              "      display: none;\n",
              "      fill: #1967D2;\n",
              "      height: 32px;\n",
              "      padding: 0 0 0 0;\n",
              "      width: 32px;\n",
              "    }\n",
              "\n",
              "    .colab-df-convert:hover {\n",
              "      background-color: #E2EBFA;\n",
              "      box-shadow: 0px 1px 2px rgba(60, 64, 67, 0.3), 0px 1px 3px 1px rgba(60, 64, 67, 0.15);\n",
              "      fill: #174EA6;\n",
              "    }\n",
              "\n",
              "    .colab-df-buttons div {\n",
              "      margin-bottom: 4px;\n",
              "    }\n",
              "\n",
              "    [theme=dark] .colab-df-convert {\n",
              "      background-color: #3B4455;\n",
              "      fill: #D2E3FC;\n",
              "    }\n",
              "\n",
              "    [theme=dark] .colab-df-convert:hover {\n",
              "      background-color: #434B5C;\n",
              "      box-shadow: 0px 1px 3px 1px rgba(0, 0, 0, 0.15);\n",
              "      filter: drop-shadow(0px 1px 2px rgba(0, 0, 0, 0.3));\n",
              "      fill: #FFFFFF;\n",
              "    }\n",
              "  </style>\n",
              "\n",
              "    <script>\n",
              "      const buttonEl =\n",
              "        document.querySelector('#df-d0371195-fd39-4890-8510-4af063d20668 button.colab-df-convert');\n",
              "      buttonEl.style.display =\n",
              "        google.colab.kernel.accessAllowed ? 'block' : 'none';\n",
              "\n",
              "      async function convertToInteractive(key) {\n",
              "        const element = document.querySelector('#df-d0371195-fd39-4890-8510-4af063d20668');\n",
              "        const dataTable =\n",
              "          await google.colab.kernel.invokeFunction('convertToInteractive',\n",
              "                                                    [key], {});\n",
              "        if (!dataTable) return;\n",
              "\n",
              "        const docLinkHtml = 'Like what you see? Visit the ' +\n",
              "          '<a target=\"_blank\" href=https://colab.research.google.com/notebooks/data_table.ipynb>data table notebook</a>'\n",
              "          + ' to learn more about interactive tables.';\n",
              "        element.innerHTML = '';\n",
              "        dataTable['output_type'] = 'display_data';\n",
              "        await google.colab.output.renderOutput(dataTable, element);\n",
              "        const docLink = document.createElement('div');\n",
              "        docLink.innerHTML = docLinkHtml;\n",
              "        element.appendChild(docLink);\n",
              "      }\n",
              "    </script>\n",
              "  </div>\n",
              "\n",
              "\n",
              "<div id=\"df-6138890b-a95f-4df5-a2cf-115f033e8590\">\n",
              "  <button class=\"colab-df-quickchart\" onclick=\"quickchart('df-6138890b-a95f-4df5-a2cf-115f033e8590')\"\n",
              "            title=\"Suggest charts\"\n",
              "            style=\"display:none;\">\n",
              "\n",
              "<svg xmlns=\"http://www.w3.org/2000/svg\" height=\"24px\"viewBox=\"0 0 24 24\"\n",
              "     width=\"24px\">\n",
              "    <g>\n",
              "        <path d=\"M19 3H5c-1.1 0-2 .9-2 2v14c0 1.1.9 2 2 2h14c1.1 0 2-.9 2-2V5c0-1.1-.9-2-2-2zM9 17H7v-7h2v7zm4 0h-2V7h2v10zm4 0h-2v-4h2v4z\"/>\n",
              "    </g>\n",
              "</svg>\n",
              "  </button>\n",
              "\n",
              "<style>\n",
              "  .colab-df-quickchart {\n",
              "      --bg-color: #E8F0FE;\n",
              "      --fill-color: #1967D2;\n",
              "      --hover-bg-color: #E2EBFA;\n",
              "      --hover-fill-color: #174EA6;\n",
              "      --disabled-fill-color: #AAA;\n",
              "      --disabled-bg-color: #DDD;\n",
              "  }\n",
              "\n",
              "  [theme=dark] .colab-df-quickchart {\n",
              "      --bg-color: #3B4455;\n",
              "      --fill-color: #D2E3FC;\n",
              "      --hover-bg-color: #434B5C;\n",
              "      --hover-fill-color: #FFFFFF;\n",
              "      --disabled-bg-color: #3B4455;\n",
              "      --disabled-fill-color: #666;\n",
              "  }\n",
              "\n",
              "  .colab-df-quickchart {\n",
              "    background-color: var(--bg-color);\n",
              "    border: none;\n",
              "    border-radius: 50%;\n",
              "    cursor: pointer;\n",
              "    display: none;\n",
              "    fill: var(--fill-color);\n",
              "    height: 32px;\n",
              "    padding: 0;\n",
              "    width: 32px;\n",
              "  }\n",
              "\n",
              "  .colab-df-quickchart:hover {\n",
              "    background-color: var(--hover-bg-color);\n",
              "    box-shadow: 0 1px 2px rgba(60, 64, 67, 0.3), 0 1px 3px 1px rgba(60, 64, 67, 0.15);\n",
              "    fill: var(--button-hover-fill-color);\n",
              "  }\n",
              "\n",
              "  .colab-df-quickchart-complete:disabled,\n",
              "  .colab-df-quickchart-complete:disabled:hover {\n",
              "    background-color: var(--disabled-bg-color);\n",
              "    fill: var(--disabled-fill-color);\n",
              "    box-shadow: none;\n",
              "  }\n",
              "\n",
              "  .colab-df-spinner {\n",
              "    border: 2px solid var(--fill-color);\n",
              "    border-color: transparent;\n",
              "    border-bottom-color: var(--fill-color);\n",
              "    animation:\n",
              "      spin 1s steps(1) infinite;\n",
              "  }\n",
              "\n",
              "  @keyframes spin {\n",
              "    0% {\n",
              "      border-color: transparent;\n",
              "      border-bottom-color: var(--fill-color);\n",
              "      border-left-color: var(--fill-color);\n",
              "    }\n",
              "    20% {\n",
              "      border-color: transparent;\n",
              "      border-left-color: var(--fill-color);\n",
              "      border-top-color: var(--fill-color);\n",
              "    }\n",
              "    30% {\n",
              "      border-color: transparent;\n",
              "      border-left-color: var(--fill-color);\n",
              "      border-top-color: var(--fill-color);\n",
              "      border-right-color: var(--fill-color);\n",
              "    }\n",
              "    40% {\n",
              "      border-color: transparent;\n",
              "      border-right-color: var(--fill-color);\n",
              "      border-top-color: var(--fill-color);\n",
              "    }\n",
              "    60% {\n",
              "      border-color: transparent;\n",
              "      border-right-color: var(--fill-color);\n",
              "    }\n",
              "    80% {\n",
              "      border-color: transparent;\n",
              "      border-right-color: var(--fill-color);\n",
              "      border-bottom-color: var(--fill-color);\n",
              "    }\n",
              "    90% {\n",
              "      border-color: transparent;\n",
              "      border-bottom-color: var(--fill-color);\n",
              "    }\n",
              "  }\n",
              "</style>\n",
              "\n",
              "  <script>\n",
              "    async function quickchart(key) {\n",
              "      const quickchartButtonEl =\n",
              "        document.querySelector('#' + key + ' button');\n",
              "      quickchartButtonEl.disabled = true;  // To prevent multiple clicks.\n",
              "      quickchartButtonEl.classList.add('colab-df-spinner');\n",
              "      try {\n",
              "        const charts = await google.colab.kernel.invokeFunction(\n",
              "            'suggestCharts', [key], {});\n",
              "      } catch (error) {\n",
              "        console.error('Error during call to suggestCharts:', error);\n",
              "      }\n",
              "      quickchartButtonEl.classList.remove('colab-df-spinner');\n",
              "      quickchartButtonEl.classList.add('colab-df-quickchart-complete');\n",
              "    }\n",
              "    (() => {\n",
              "      let quickchartButtonEl =\n",
              "        document.querySelector('#df-6138890b-a95f-4df5-a2cf-115f033e8590 button');\n",
              "      quickchartButtonEl.style.display =\n",
              "        google.colab.kernel.accessAllowed ? 'block' : 'none';\n",
              "    })();\n",
              "  </script>\n",
              "</div>\n",
              "    </div>\n",
              "  </div>\n"
            ]
          },
          "metadata": {},
          "execution_count": 4
        }
      ],
      "source": [
        "# Reading content into data frame\n",
        "file_content_array = np.frombuffer(file_like_object.getvalue(), dtype=np.uint8)\n",
        "df = read_order_types_for_df(file_content_array)\n",
        "df.head()"
      ]
    },
    {
      "cell_type": "code",
      "execution_count": null,
      "metadata": {
        "colab": {
          "base_uri": "https://localhost:8080/"
        },
        "id": "MEfL-GTJqKda",
        "outputId": "328052b2-1edd-40c7-d4f3-91381b8210b9"
      },
      "outputs": [
        {
          "output_type": "execute_result",
          "data": {
            "text/plain": [
              "[[218, 48], [157, 54], [88, 66], [76, 72], [61, 90]]"
            ]
          },
          "metadata": {},
          "execution_count": 5
        }
      ],
      "source": [
        "# Reading content into matrix\n",
        "data = read_order_types(file_content_array)\n",
        "data = list(data)\n",
        "data = [list(x) for x in data]\n",
        "data[:5]"
      ]
    },
    {
      "cell_type": "markdown",
      "metadata": {
        "id": "f7jjpr2t4_gi"
      },
      "source": [
        "# **Point set**"
      ]
    },
    {
      "cell_type": "code",
      "execution_count": null,
      "metadata": {
        "colab": {
          "base_uri": "https://localhost:8080/",
          "height": 472
        },
        "id": "4U9o5EIX22WL",
        "outputId": "7c2c604d-ed8c-4f5f-cd14-74ad182e3440"
      },
      "outputs": [
        {
          "data": {
            "image/png": "[encoded data removed]",
            "text/plain": [
              "<Figure size 640x480 with 1 Axes>"
            ]
          },
          "metadata": {},
          "output_type": "display_data"
        }
      ],
      "source": [
        "# Visualize the first pointset\n",
        "plt.scatter(df['x'][:8], df['y'][:8])\n",
        "plt.title('Visualization of the first pointset')\n",
        "plt.xlabel('X Coordinate')\n",
        "plt.ylabel('Y Coordinate')\n",
        "plt.show()"
      ]
    },
    {
      "cell_type": "code",
      "execution_count": null,
      "metadata": {
        "colab": {
          "base_uri": "https://localhost:8080/",
          "height": 472
        },
        "id": "c-1Zv_bv31JE",
        "outputId": "878a8395-3134-4e15-b782-7b45466201f5"
      },
      "outputs": [
        {
          "data": {
            "image/png": "[encoded data removed]",
            "text/plain": [
              "<Figure size 640x480 with 1 Axes>"
            ]
          },
          "metadata": {},
          "output_type": "display_data"
        }
      ],
      "source": [
        "# Visualize the last pointset\n",
        "plt.scatter(df['x'][3299:3307], df['y'][3299:3307])\n",
        "plt.title('Visualization of the last pointset')\n",
        "plt.xlabel('X Coordinate')\n",
        "plt.ylabel('Y Coordinate')\n",
        "plt.show()"
      ]
    },
    {
      "cell_type": "markdown",
      "metadata": {
        "id": "mTQiSy-55Em3"
      },
      "source": [
        "# **Algorithm**"
      ]
    },
    {
      "cell_type": "markdown",
      "metadata": {
        "id": "thY5s8Owxl13"
      },
      "source": [
        "We first define a couple of helper functions, to help us generate all edges of a complete graph given its vertices, and to transfrom a partition into forests describing the generated edges."
      ]
    },
    {
      "cell_type": "code",
      "execution_count": null,
      "metadata": {
        "id": "lksBMBZlk7TW"
      },
      "outputs": [],
      "source": [
        "def generate_edges(vertices):\n",
        "  edges = []\n",
        "  for u in range(len(vertices)):\n",
        "    for v in range(u+1,len(vertices)):\n",
        "      if u != v: edges.append((vertices[u],vertices[v]))\n",
        "  return edges\n",
        "\n",
        "def from_part_to_forests(part):\n",
        "  forests = []\n",
        "  for p in range(len(part)):\n",
        "    forests.append([])\n",
        "    for e in part[p]:\n",
        "      forests[p].append(edges[e])\n",
        "  return forests\n",
        "\n",
        "def from_part_to_forests_data(part,edges_data):\n",
        "  forests_data = []\n",
        "  for p in range(len(part)):\n",
        "    forests_data.append([])\n",
        "    for e in (part[p]):\n",
        "      forests_data[p].append(edges_data[e])\n",
        "  return forests_data"
      ]
    },
    {
      "cell_type": "markdown",
      "metadata": {
        "id": "Z-rtculZx7Kv"
      },
      "source": [
        "Next, we define a function which checks whether decompostions are planar for each point set. We thus define the function ```check_forests_planar```."
      ]
    },
    {
      "cell_type": "code",
      "execution_count": null,
      "metadata": {
        "id": "Opt8f3KQnAx1"
      },
      "outputs": [],
      "source": [
        "def ccw(A,B,C):\n",
        "  #(C.y-A.y) * (B.x-A.x) > (B.y-A.y) * (C.x-A.x)\n",
        "  return (int(C[1])-int(A[1])) * (int(B[0])-int(A[0])) > (int(B[1])-int(A[1])) * (int(C[0])-int(A[0]))\n",
        "\n",
        "# Return true if line segments AB and CD intersect\n",
        "def intersect(A,B,C,D):\n",
        "  return ccw(A,C,D) != ccw(B,C,D) and ccw(A,B,C) != ccw(A,B,D)\n",
        "\n",
        "def check_planar(forest):\n",
        "  for a in forest:\n",
        "    for b in forest:\n",
        "      if a != b and intersect(a[0],a[1],b[0],b[1]): return False\n",
        "  return True\n",
        "\n",
        "def check_forests_planar(fore):\n",
        "  for fo in fore:\n",
        "    if not check_planar(fo): return False\n",
        "  return True"
      ]
    },
    {
      "cell_type": "code",
      "execution_count": null,
      "metadata": {
        "id": "oqL-2AmRNqIl"
      },
      "outputs": [],
      "source": [
        "def check_pointset(m,n):\n",
        "  vertices_data = data[m:m+n]\n",
        "  edges_data = generate_edges(vertices_data)\n",
        "  forbidden = []\n",
        "  for e in range(28):\n",
        "    edge = edges_data[e]\n",
        "    for f in range(e,28):\n",
        "      fedge = edges_data[f]\n",
        "      if intersect(edge[0],edge[1],fedge[0],fedge[1]): forbidden.append([e,f])\n",
        "  for check in colorings:\n",
        "    works = True\n",
        "    for forest in check:\n",
        "      for intersection in forbidden:\n",
        "        if intersection[0] in forest and intersection[1] in forest: works = False\n",
        "    if works: return(vertices_data,check)\n",
        "  return None"
      ]
    },
    {
      "cell_type": "markdown",
      "metadata": {
        "id": "pmuo643GyQvo"
      },
      "source": [
        "To help us visualize the results, we define a plotting function."
      ]
    },
    {
      "cell_type": "code",
      "execution_count": null,
      "metadata": {
        "id": "X71IS76HEAnE"
      },
      "outputs": [],
      "source": [
        "def plot_edges(components, vertices_data, save_path=None):\n",
        "\n",
        "    edges_data = generate_edges(vertices_data)\n",
        "    edge_styles = ['-', '--', '-.', ':', '*']\n",
        "    edge_colors = ['b', 'g', 'r', 'm', 'c', 'k']\n",
        "    vertex_marker = 'ko'\n",
        "\n",
        "    fig, ax = plt.subplots(figsize=(8, 8))\n",
        "\n",
        "    for i, component in enumerate(components):\n",
        "        for j, edge_idx in enumerate(component):\n",
        "            edge = edges_data[edge_idx]\n",
        "            x, y = zip(edge[0], edge[1])\n",
        "            style = edge_styles[i % len(edge_styles)]\n",
        "            color = edge_colors[i % len(edge_colors)]\n",
        "            ax.plot(x, y, linestyle=style, linewidth=3, color=color, marker='o')\n",
        "\n",
        "        for edge_idx in component:\n",
        "            for vertex in edges_data[edge_idx]:\n",
        "                ax.plot(vertex[0], vertex[1], vertex_marker)\n",
        "\n",
        "    ax.set_axis_off()\n",
        "\n",
        "    if save_path:\n",
        "        plt.savefig(save_path, format='svg', bbox_inches='tight')\n",
        "    plt.show()"
      ]
    },
    {
      "cell_type": "markdown",
      "metadata": {
        "id": "ZBpF7fL_yYt-"
      },
      "source": [
        "We now start building our decompositions. We start by generating all stars, which we will use to form all possible broken double star decompositons. We will consider only those consisting of three edges, as those are the only plausible candidates."
      ]
    },
    {
      "cell_type": "code",
      "execution_count": null,
      "metadata": {
        "id": "UOZtsZMMYURl"
      },
      "outputs": [],
      "source": [
        "def generate_stars(v,edges):\n",
        "  stars = []\n",
        "  for i in range(28):\n",
        "    if edges[i][0] == v or edges[i][1] == v:\n",
        "      more = []\n",
        "      for s in stars:\n",
        "        if len(s) in {1,2}: more.append(s+[edges[i]])\n",
        "      stars += more\n",
        "      stars.append([edges[i]])\n",
        "  return stars"
      ]
    },
    {
      "cell_type": "code",
      "execution_count": null,
      "metadata": {
        "id": "vSdlJDGwcK7a"
      },
      "outputs": [],
      "source": [
        "vertices = [i for i in range(8)]\n",
        "edges = generate_edges(vertices)\n",
        "\n",
        "all_stars = []\n",
        "\n",
        "for i in range(8):\n",
        "  all_stars += generate_stars(i,edges)\n",
        "\n",
        "stars1 = []\n",
        "stars2 = []\n",
        "stars3 = []\n",
        "\n",
        "for s in all_stars:\n",
        "  if len(s) == 1: stars1.append(s)\n",
        "  elif len(s) == 2: stars2.append(s)\n",
        "  else: stars3.append(s)"
      ]
    },
    {
      "cell_type": "markdown",
      "source": [
        "We define functions which will help us determine whether two stars are disjoint (and can therefore be part of the same forest). We also want to be able to check which vertex is the center of a star."
      ],
      "metadata": {
        "id": "0h0MM5DVOC5S"
      }
    },
    {
      "cell_type": "code",
      "execution_count": null,
      "metadata": {
        "id": "CTrPdDwuTOKZ"
      },
      "outputs": [],
      "source": [
        "def stars_disjoint(s1, s2):\n",
        "  star1 = set()\n",
        "  for a in s1:\n",
        "    star1.add(a[0])\n",
        "    star1.add(a[1])\n",
        "  star2 = set()\n",
        "  for b in s2:\n",
        "    star2.add(b[0])\n",
        "    star2.add(b[1])\n",
        "  return star1.isdisjoint(star2)\n",
        "\n",
        "def check_center(v,star):\n",
        "  app = 0\n",
        "  for a in star:\n",
        "    if a[0] == v: app +=1\n",
        "    if a[1] == v: app +=1\n",
        "  return app == 3"
      ]
    },
    {
      "cell_type": "markdown",
      "source": [
        "Next, for each edge of the graph, we generate the stars centered at its endpoints."
      ],
      "metadata": {
        "id": "O4SagqyVOWZw"
      }
    },
    {
      "cell_type": "code",
      "execution_count": null,
      "metadata": {
        "id": "akDXzKFOxwh_"
      },
      "outputs": [],
      "source": [
        "parts = {}\n",
        "for u in vertices:\n",
        "  for v in vertices[u+1:]:\n",
        "    parts[(u,v)] = []\n",
        "\n",
        "for v in vertices:\n",
        "  for u in vertices[v+1:]:\n",
        "    for star in stars3:\n",
        "      for other_star in stars3:\n",
        "        if check_center(v,star) and check_center(u,other_star) and stars_disjoint(star, other_star):\n",
        "          parts[(v,u)].append([star,other_star])\n",
        "        elif check_center(u,star) and check_center(v,other_star) and stars_disjoint(star, other_star):\n",
        "          parts[(v,u)].append([star,other_star])\n",
        "\n",
        "for key in parts.keys():\n",
        "  for i in range(40):\n",
        "    parts[key][i] = list(map(edges.index,itertools.chain.from_iterable(parts[key][i])))\n"
      ]
    },
    {
      "cell_type": "code",
      "execution_count": null,
      "metadata": {
        "colab": {
          "base_uri": "https://localhost:8080/"
        },
        "id": "NiSNCm5EF1wC",
        "outputId": "3820821a-1e1e-427e-cdd7-333706c6a98b"
      },
      "outputs": [
        {
          "data": {
            "text/plain": [
              "40"
            ]
          },
          "execution_count": 57,
          "metadata": {},
          "output_type": "execute_result"
        }
      ],
      "source": [
        "len(parts[(0,1)])"
      ]
    },
    {
      "cell_type": "markdown",
      "source": [
        "Now we need to find all matchings in the graph, which we will use as bases for building the broken star forests. There are $26520$ of them."
      ],
      "metadata": {
        "id": "Ztp5OcWPOiPG"
      }
    },
    {
      "cell_type": "code",
      "execution_count": null,
      "metadata": {
        "id": "om9G_40UaCJw"
      },
      "outputs": [],
      "source": [
        "matchings = []\n",
        "\n",
        "for e1 in range(28):\n",
        "  for e2 in range(1,28):\n",
        "    for e3 in range(2,28):\n",
        "      for e4 in range(3,28):\n",
        "        a1 = edges[e1]\n",
        "        a2 = edges[e2]\n",
        "        a3 = edges[e3]\n",
        "        a4 = edges[e4]\n",
        "        if stars_disjoint([a1],[a2]) and stars_disjoint([a1],[a3]) and stars_disjoint([a1],[a4]) and stars_disjoint([a2],[a3]) and stars_disjoint([a2],[a4]) and stars_disjoint([a3],[a4]):\n",
        "          matchings.append([e1,e2,e3,e4])"
      ]
    },
    {
      "cell_type": "code",
      "execution_count": null,
      "metadata": {
        "colab": {
          "base_uri": "https://localhost:8080/"
        },
        "id": "-JmyzthzNaKB",
        "outputId": "91c12189-1bbc-4994-bee5-b6ca73f1a3ef"
      },
      "outputs": [
        {
          "output_type": "execute_result",
          "data": {
            "text/plain": [
              "26520"
            ]
          },
          "metadata": {},
          "execution_count": 15
        }
      ],
      "source": [
        "size = len(data)\n",
        "size"
      ]
    },
    {
      "cell_type": "markdown",
      "source": [
        "The next step is to generate all decompositions which we would like to check. The first example is printed in the output."
      ],
      "metadata": {
        "id": "5w9b0G92PhwZ"
      }
    },
    {
      "cell_type": "markdown",
      "source": [
        "Finally, we go through all point sets and all generated broken double star decompositions. The output of this code is saved in file ```8-5-partitions.txt```."
      ],
      "metadata": {
        "id": "B6O4u1fyO3zm"
      }
    },
    {
      "cell_type": "code",
      "execution_count": null,
      "metadata": {
        "colab": {
          "base_uri": "https://localhost:8080/"
        },
        "id": "z-8KhZpTqhPd",
        "outputId": "27574d74-902f-4ee8-efc7-f383511ea51a"
      },
      "outputs": [
        {
          "output_type": "stream",
          "name": "stdout",
          "text": [
            "checked p1 1 times\n",
            "[[[0, 13, 22, 27], [1, 3, 5, 8, 10, 12], [7, 14, 16, 2, 19, 21], [9, 18, 23, 4, 15, 26], [6, 11, 17, 20, 24, 25]]]\n",
            "checked p1 10001 times\n",
            "checked p1 20001 times\n",
            "checked p1 30001 times\n",
            "checked p1 40001 times\n",
            "checked p1 50001 times\n",
            "checked p1 60001 times\n",
            "checked p1 70001 times\n"
          ]
        }
      ],
      "source": [
        "colorings = []\n",
        "checkss = 0\n",
        "for matching in matchings:\n",
        "  e1,e2,e3,e4 = matching\n",
        "  s = set(matching)\n",
        "  for p1 in parts[edges[e1]]:\n",
        "    checkss += 1\n",
        "    if checkss%10000 == 1: print(\"checked p1 {} times\".format(checkss))\n",
        "    s1 = set(p1)\n",
        "    for p2 in parts[edges[e2]]:\n",
        "      s2 = set(p2)\n",
        "      for p3 in parts[edges[e3]]:\n",
        "        s3 = set(p3)\n",
        "        if s1.isdisjoint(s2) and s1.isdisjoint(s3) and s2.isdisjoint(s3)\\\n",
        "        and s1.isdisjoint(s) and s2.isdisjoint(s) and s3.isdisjoint(s):\n",
        "          if len(colorings) == 1: print(colorings)\n",
        "          colorings.append([matching,p1,p2,p3,list({0,1,2,3,4,5,6,7,8,9,10,11,12,13,14,15,16,17,18,19,20,21,22,23,24,25,26,27}.difference(s.union(s1.union(s2.union(s3)))))])\n"
      ]
    },
    {
      "cell_type": "code",
      "execution_count": null,
      "metadata": {
        "id": "ujUTKiKLdn0E"
      },
      "outputs": [],
      "source": [
        "for i in range(1,3316):\n",
        "  if i%15 == 1: print(\"checked {}\".format(i))\n",
        "  check = check_pointset(size-i*8,8)\n",
        "  if check is not None: print(check)"
      ]
    },
    {
      "cell_type": "markdown",
      "source": [
        "For illustrations of the decomposed point sets, please take a look at the ```star-forests-8-pics.ipynb``` notebook."
      ],
      "metadata": {
        "id": "02z-5Ti8P3w0"
      }
    },
    {
      "cell_type": "markdown",
      "source": [
        "Again, this is method that has proven to be useful for small point sets. When trying to use it for point sets on $10$ vertices, we run into memory troubles. Thus we will again need to reinvent the way we find partitions."
      ],
      "metadata": {
        "id": "Dk1h2W4DP09C"
      }
    }
  ],
  "metadata": {
    "colab": {
      "provenance": []
    },
    "kernelspec": {
      "display_name": "Python 3",
      "name": "python3"
    },
    "language_info": {
      "name": "python"
    }
  },
  "nbformat": 4,
  "nbformat_minor": 0
}