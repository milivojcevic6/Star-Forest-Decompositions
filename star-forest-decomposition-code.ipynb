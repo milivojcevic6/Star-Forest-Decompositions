{
  "nbformat": 4,
  "nbformat_minor": 0,
  "metadata": {
    "colab": {
      "provenance": []
    },
    "kernelspec": {
      "name": "python3",
      "display_name": "Python 3"
    },
    "language_info": {
      "name": "python"
    }
  },
  "cells": [
    {
      "cell_type": "markdown",
      "source": [
        "# **Reading data 🗂️**"
      ],
      "metadata": {
        "id": "IU-GYTwu46Y0"
      }
    },
    {
      "cell_type": "code",
      "source": [
        "import pandas as pd\n",
        "import requests\n",
        "from io import BytesIO\n",
        "import numpy as np\n",
        "import matplotlib.pyplot as plt"
      ],
      "metadata": {
        "id": "9-L9j1l32kHh"
      },
      "execution_count": null,
      "outputs": []
    },
    {
      "cell_type": "code",
      "source": [
        "def read_order_types(file_content):\n",
        "    # Assuming 8-bit unsigned integers\n",
        "    dtype = 'uint8'\n",
        "\n",
        "    # Reshape the flattened array into (n, 2) shape\n",
        "    points = file_content.reshape(-1, 2)\n",
        "\n",
        "    print(points)\n",
        "\n",
        "    # Create a DataFrame\n",
        "    df = pd.DataFrame(points, columns=['x', 'y'], dtype=dtype)\n",
        "\n",
        "    return df\n",
        "\n",
        "def read_order_types1(file_content):\n",
        "    # Assuming 8-bit unsigned integers\n",
        "    dtype = 'uint8'\n",
        "\n",
        "    # Reshape the flattened array into (n, 2) shape\n",
        "    points = file_content.reshape(-1, 2)\n",
        "\n",
        "    return points"
      ],
      "metadata": {
        "id": "BzNXo8ic3MN4"
      },
      "execution_count": null,
      "outputs": []
    },
    {
      "cell_type": "code",
      "source": [],
      "metadata": {
        "id": "LbMWWo0ndgYw"
      },
      "execution_count": null,
      "outputs": []
    },
    {
      "cell_type": "code",
      "source": [
        "file_url = \"http://www.ist.tugraz.at/staff/aichholzer/research/rp/triangulations/ordertypes/data/otypes06.b08\"\n",
        "\n",
        "# downloading\n",
        "response = requests.get(file_url)\n",
        "file_content = response.content\n",
        "\n",
        "# Use BytesIO to create a file-like object from the bytes content\n",
        "file_like_object = BytesIO(file_content)"
      ],
      "metadata": {
        "id": "_zGeBZRA3QPv",
        "colab": {
          "base_uri": "https://localhost:8080/"
        },
        "outputId": "8078bcfa-a270-4ebb-ecc3-d5b1b33653b7"
      },
      "execution_count": null,
      "outputs": [
        {
          "output_type": "stream",
          "name": "stdout",
          "text": [
            "b'\\xe6\\xc0\\xf8N\\x94$6H\\x1e\\xa0~\\xdc\\xa9 T\\x04\\x0b%L\\xff\\x93\\xcd\\xf4\\xc6q\\xf7\\xb1\\xec\\xf99\\xd0\\x08]\\xa1\\x07\\x91\\x00\\xac\\x10\\xc6\\xf1\\xf4\\x9d\\x8cenc\\x0c[\\n'\n",
            "b'7\\x07\\x1c\\xf9>\\xbd\\xb6l\\xf8xI\\xc9\\xa0\\xad\\xdbSw^Q\\x87%7\\xf1c\\xa4\\x1d\\x0fUIlq\\xa2,\\xe3\\x0esi\\xee\\xcd\\xdcv\\x8e\\xf2\\x13J\\x1f\\x02\\xe3d\\xf3\\xeb\\xd1i\\xca\\x9a\\xa3*\\r\\xcf\\xd3\\xeb\\x10\\xaaB\\x82\\x19Y\\xc5)\\xe6\\x02\\xee\\xf5\\xda\\xe3\\x82\\xc6x}\\x93\\xec\\x1b\\xf4\\x05\\x03H\\x90\\xa7\\xb2\\x89\\xd9\\x86\\xdd\\xfb\\xf0 \\x0f\\x07=f\\xb4Kv\\xa4^\\xf9\\x15\\xf7\\xebg\\x85QVz2]\\x14\\t\\x05\\xf0\\xfd\\x88\\xc2\\x83?\\xb6eSA\\x0f\\x1d\\x15k\\xebPh\\x94wmA\\xe2Y'\n"
          ]
        }
      ]
    },
    {
      "cell_type": "code",
      "source": [
        "# Reading content\n",
        "file_content_array = np.frombuffer(file_like_object.getvalue(), dtype=np.uint8)\n",
        "print(file_content_array)\n",
        "\n",
        "# Parse the content into a DataFrame\n",
        "df = read_order_types(file_content_array)"
      ],
      "metadata": {
        "id": "RV0rpKEm3fXN",
        "colab": {
          "base_uri": "https://localhost:8080/"
        },
        "outputId": "28e820d4-44f2-49e1-84ca-b3345c745438"
      },
      "execution_count": null,
      "outputs": [
        {
          "output_type": "stream",
          "name": "stdout",
          "text": [
            "[230 192 248  78 148  36  54  72  30 160 126 220 169  32  84   4  11  37\n",
            "  76 255 147 205 244 198 113 247 177 236 249  57 208   8  93 161   7 145\n",
            "   0 172  16 198 241 244 157 140 101 110  99  12  91  10  55   7  28 249\n",
            "  62 189 182 108 248 120  73 201 160 173 219  83 119  94  81 135  37  55\n",
            " 241  99 164  29  15  85  73 108 113 162  44 227  14 115 105 238 205 220\n",
            " 118 142 242  19  74  31   2 227 100 243 235 209 105 202 154 163  42  13\n",
            " 207 211 235  16 170  66 130  25  89 197  41 230   2 238 245 218 227 130\n",
            " 198 120 125 147 236  27 244   5   3  72 144 167 178 137 217 134 221 251\n",
            " 240  32  15   7  61 102 180  75 118 164  94 249  21 247 235 103 133  81\n",
            "  86 122  50  93  20   9   5 240 253 136 194 131  63 182 101  83  65  15\n",
            "  29  21 107 235  80 104 148 119 109  65 226  89]\n",
            "[[230 192]\n",
            " [248  78]\n",
            " [148  36]\n",
            " [ 54  72]\n",
            " [ 30 160]\n",
            " [126 220]\n",
            " [169  32]\n",
            " [ 84   4]\n",
            " [ 11  37]\n",
            " [ 76 255]\n",
            " [147 205]\n",
            " [244 198]\n",
            " [113 247]\n",
            " [177 236]\n",
            " [249  57]\n",
            " [208   8]\n",
            " [ 93 161]\n",
            " [  7 145]\n",
            " [  0 172]\n",
            " [ 16 198]\n",
            " [241 244]\n",
            " [157 140]\n",
            " [101 110]\n",
            " [ 99  12]\n",
            " [ 91  10]\n",
            " [ 55   7]\n",
            " [ 28 249]\n",
            " [ 62 189]\n",
            " [182 108]\n",
            " [248 120]\n",
            " [ 73 201]\n",
            " [160 173]\n",
            " [219  83]\n",
            " [119  94]\n",
            " [ 81 135]\n",
            " [ 37  55]\n",
            " [241  99]\n",
            " [164  29]\n",
            " [ 15  85]\n",
            " [ 73 108]\n",
            " [113 162]\n",
            " [ 44 227]\n",
            " [ 14 115]\n",
            " [105 238]\n",
            " [205 220]\n",
            " [118 142]\n",
            " [242  19]\n",
            " [ 74  31]\n",
            " [  2 227]\n",
            " [100 243]\n",
            " [235 209]\n",
            " [105 202]\n",
            " [154 163]\n",
            " [ 42  13]\n",
            " [207 211]\n",
            " [235  16]\n",
            " [170  66]\n",
            " [130  25]\n",
            " [ 89 197]\n",
            " [ 41 230]\n",
            " [  2 238]\n",
            " [245 218]\n",
            " [227 130]\n",
            " [198 120]\n",
            " [125 147]\n",
            " [236  27]\n",
            " [244   5]\n",
            " [  3  72]\n",
            " [144 167]\n",
            " [178 137]\n",
            " [217 134]\n",
            " [221 251]\n",
            " [240  32]\n",
            " [ 15   7]\n",
            " [ 61 102]\n",
            " [180  75]\n",
            " [118 164]\n",
            " [ 94 249]\n",
            " [ 21 247]\n",
            " [235 103]\n",
            " [133  81]\n",
            " [ 86 122]\n",
            " [ 50  93]\n",
            " [ 20   9]\n",
            " [  5 240]\n",
            " [253 136]\n",
            " [194 131]\n",
            " [ 63 182]\n",
            " [101  83]\n",
            " [ 65  15]\n",
            " [ 29  21]\n",
            " [107 235]\n",
            " [ 80 104]\n",
            " [148 119]\n",
            " [109  65]\n",
            " [226  89]]\n"
          ]
        }
      ]
    },
    {
      "cell_type": "markdown",
      "source": [
        "# **Point set 📌**"
      ],
      "metadata": {
        "id": "f7jjpr2t4_gi"
      }
    },
    {
      "cell_type": "code",
      "source": [
        "print(df)"
      ],
      "metadata": {
        "colab": {
          "base_uri": "https://localhost:8080/"
        },
        "id": "vAfdN6bi3h2I",
        "outputId": "125b0884-2060-4ec6-ca64-5c9651616f57"
      },
      "execution_count": null,
      "outputs": [
        {
          "output_type": "stream",
          "name": "stdout",
          "text": [
            "         x    y\n",
            "0      218   48\n",
            "1      157   54\n",
            "2       88   66\n",
            "3       76   72\n",
            "4       61   90\n",
            "...    ...  ...\n",
            "26515  115  202\n",
            "26516  120  207\n",
            "26517  122  154\n",
            "26518  145   75\n",
            "26519  227   10\n",
            "\n",
            "[26520 rows x 2 columns]\n"
          ]
        }
      ]
    },
    {
      "cell_type": "code",
      "source": [
        "# Visualize the first 8 points\n",
        "plt.scatter(df['x'][:8], df['y'][:8])\n",
        "plt.title('Visualization of the First 8 Points')\n",
        "plt.xlabel('X Coordinate')\n",
        "plt.ylabel('Y Coordinate')\n",
        "plt.show()"
      ],
      "metadata": {
        "colab": {
          "base_uri": "https://localhost:8080/",
          "height": 472
        },
        "id": "4U9o5EIX22WL",
        "outputId": "5ef0e5f8-b846-4180-ae71-77c05783c2db"
      },
      "execution_count": null,
      "outputs": [
        {
          "output_type": "display_data",
          "data": {
            "text/plain": [
              "<Figure size 640x480 with 1 Axes>"
            ],
            "image/png": "[encoded data removed]"
          },
          "metadata": {}
        }
      ]
    },
    {
      "cell_type": "code",
      "source": [
        "# Visualize the second 8 points\n",
        "plt.scatter(df['x'][8:16], df['y'][8:16])\n",
        "plt.title('Visualization of the First 8 Points')\n",
        "plt.xlabel('X Coordinate')\n",
        "plt.ylabel('Y Coordinate')\n",
        "plt.show()"
      ],
      "metadata": {
        "colab": {
          "base_uri": "https://localhost:8080/",
          "height": 472
        },
        "id": "c-1Zv_bv31JE",
        "outputId": "b8ead39f-94e9-42c4-814a-2bbb10a3086d"
      },
      "execution_count": null,
      "outputs": [
        {
          "output_type": "display_data",
          "data": {
            "text/plain": [
              "<Figure size 640x480 with 1 Axes>"
            ],
            "image/png": "[encoded data removed]"
          },
          "metadata": {}
        }
      ]
    },
    {
      "cell_type": "code",
      "source": [
        "df1 = df.iloc[:8]\n",
        "df2 = df.iloc[8:16]\n",
        "df3 = df.iloc[16:24]\n",
        "\n",
        "# Visualize the points with different colors\n",
        "plt.scatter(df1['x'], df1['y'], label='First 8 Points', color='red')\n",
        "plt.scatter(df2['x'], df2['y'], label='Next 8 Points', color='green')\n",
        "plt.scatter(df3['x'], df3['y'], label='Last 8 Points', color='blue')\n",
        "\n",
        "plt.title('Visualization of Points in Different Colors')\n",
        "plt.xlabel('X Coordinate')\n",
        "plt.ylabel('Y Coordinate')\n",
        "# plt.legend()\n",
        "plt.show()"
      ],
      "metadata": {
        "colab": {
          "base_uri": "https://localhost:8080/",
          "height": 472
        },
        "id": "AE-Y1oyT4tiM",
        "outputId": "95471800-65c2-4351-acb7-90ddc78001dc"
      },
      "execution_count": null,
      "outputs": [
        {
          "output_type": "display_data",
          "data": {
            "text/plain": [
              "<Figure size 640x480 with 1 Axes>"
            ],
            "image/png": "[encoded data removed]"
          },
          "metadata": {}
        }
      ]
    },
    {
      "cell_type": "markdown",
      "source": [
        "# **Algorithm📝**"
      ],
      "metadata": {
        "id": "mTQiSy-55Em3"
      }
    },
    {
      "cell_type": "code",
      "source": [
        "import urllib.request\n",
        "data = read_order_types1(file_content_array)\n",
        "data = list(data)\n",
        "data = [list(x) for x in data]\n",
        "print(data)\n"
      ],
      "metadata": {
        "id": "SytaAz0r5Ijg",
        "colab": {
          "base_uri": "https://localhost:8080/"
        },
        "outputId": "617598f3-8b39-47df-986c-08a3567e3c30"
      },
      "execution_count": null,
      "outputs": [
        {
          "output_type": "stream",
          "name": "stdout",
          "text": [
            "[[230, 192], [248, 78], [148, 36], [54, 72], [30, 160], [126, 220], [169, 32], [84, 4], [11, 37], [76, 255], [147, 205], [244, 198], [113, 247], [177, 236], [249, 57], [208, 8], [93, 161], [7, 145], [0, 172], [16, 198], [241, 244], [157, 140], [101, 110], [99, 12], [91, 10], [55, 7], [28, 249], [62, 189], [182, 108], [248, 120], [73, 201], [160, 173], [219, 83], [119, 94], [81, 135], [37, 55], [241, 99], [164, 29], [15, 85], [73, 108], [113, 162], [44, 227], [14, 115], [105, 238], [205, 220], [118, 142], [242, 19], [74, 31], [2, 227], [100, 243], [235, 209], [105, 202], [154, 163], [42, 13], [207, 211], [235, 16], [170, 66], [130, 25], [89, 197], [41, 230], [2, 238], [245, 218], [227, 130], [198, 120], [125, 147], [236, 27], [244, 5], [3, 72], [144, 167], [178, 137], [217, 134], [221, 251], [240, 32], [15, 7], [61, 102], [180, 75], [118, 164], [94, 249], [21, 247], [235, 103], [133, 81], [86, 122], [50, 93], [20, 9], [5, 240], [253, 136], [194, 131], [63, 182], [101, 83], [65, 15], [29, 21], [107, 235], [80, 104], [148, 119], [109, 65], [226, 89]]\n"
          ]
        }
      ]
    },
    {
      "cell_type": "code",
      "source": [
        "l = [i for i in range(15)]\n",
        "\n",
        "from more_itertools import set_partitions as sp  #function in S,k to generate all partitions of S of size k\n",
        "\n",
        "colorings = []\n",
        "i=1\n",
        "j=1\n",
        "for part in sp(l, 4):\n",
        "  if j%1000000==1:print('i have generated {} partitions'.format(j))\n",
        "  j+=1\n",
        "  colorings.append(part)"
      ],
      "metadata": {
        "id": "UOZtsZMMYURl",
        "colab": {
          "base_uri": "https://localhost:8080/"
        },
        "outputId": "9b5f4c8d-4809-4170-b66c-a153a4b16752"
      },
      "execution_count": null,
      "outputs": [
        {
          "output_type": "stream",
          "name": "stdout",
          "text": [
            "i have generated 1 partitions\n",
            "i have generated 1000001 partitions\n",
            "i have generated 2000001 partitions\n",
            "i have generated 3000001 partitions\n",
            "i have generated 4000001 partitions\n",
            "i have generated 5000001 partitions\n",
            "i have generated 6000001 partitions\n",
            "i have generated 7000001 partitions\n",
            "i have generated 8000001 partitions\n",
            "i have generated 9000001 partitions\n",
            "i have generated 10000001 partitions\n",
            "i have generated 11000001 partitions\n",
            "i have generated 12000001 partitions\n",
            "i have generated 13000001 partitions\n",
            "i have generated 14000001 partitions\n",
            "i have generated 15000001 partitions\n",
            "i have generated 16000001 partitions\n",
            "i have generated 17000001 partitions\n",
            "i have generated 18000001 partitions\n",
            "i have generated 19000001 partitions\n",
            "i have generated 20000001 partitions\n",
            "i have generated 21000001 partitions\n",
            "i have generated 22000001 partitions\n",
            "i have generated 23000001 partitions\n",
            "i have generated 24000001 partitions\n",
            "i have generated 25000001 partitions\n",
            "i have generated 26000001 partitions\n",
            "i have generated 27000001 partitions\n",
            "i have generated 28000001 partitions\n",
            "i have generated 29000001 partitions\n",
            "i have generated 30000001 partitions\n",
            "i have generated 31000001 partitions\n",
            "i have generated 32000001 partitions\n",
            "i have generated 33000001 partitions\n",
            "i have generated 34000001 partitions\n",
            "i have generated 35000001 partitions\n",
            "i have generated 36000001 partitions\n",
            "i have generated 37000001 partitions\n",
            "i have generated 38000001 partitions\n",
            "i have generated 39000001 partitions\n",
            "i have generated 40000001 partitions\n",
            "i have generated 41000001 partitions\n",
            "i have generated 42000001 partitions\n"
          ]
        }
      ]
    },
    {
      "cell_type": "code",
      "source": [
        "import networkx as nx\n",
        "import itertools\n",
        "\n",
        "def peek(iterable):\n",
        "    try:\n",
        "        first = next(iterable)\n",
        "    except StopIteration:\n",
        "        return None\n",
        "    return first, itertools.chain([first], iterable)\n",
        "\n",
        "def check_star_forest(forest,vertices,n):\n",
        "  graph_forest = nx.Graph(forest)\n",
        "  count = [0 for i in range(n)]\n",
        "  big_degree = []\n",
        "  for edge in forest:\n",
        "    u = vertices.index(edge[0])\n",
        "    v = vertices.index(edge[1])\n",
        "    count[u] += 1\n",
        "    count[v] += 1\n",
        "    if count[u] >= 2:\n",
        "      for w in big_degree:\n",
        "        if not peek(nx.all_simple_paths(graph_forest, source=vertices[u], target=vertices[w])) is None:\n",
        "          return False\n",
        "      big_degree.append(vertices[u])\n",
        "    if count[v] >= 2:\n",
        "      for w in big_degree:\n",
        "        if not peek(nx.all_simple_paths(graph_forest, source=vertices[v], target=vertices[w])) is None:\n",
        "          return False\n",
        "      big_degree.append(vertices[v])\n",
        "  return True\n",
        "\n",
        "def ccw(A,B,C):\n",
        "  #(C.y-A.y) * (B.x-A.x) > (B.y-A.y) * (C.x-A.x)\n",
        "  return (int(C[1])-int(A[1])) * (int(B[0])-int(A[0])) > (int(B[1])-int(A[1])) * (int(C[0])-int(A[0]))\n",
        "\n",
        "# Return true if line segments AB and CD intersect\n",
        "def intersect(A,B,C,D):\n",
        "  return ccw(A,C,D) != ccw(B,C,D) and ccw(A,B,C) != ccw(A,B,D)\n",
        "\n",
        "def check_planar(forest):\n",
        "  for a in forest:\n",
        "    for b in forest:\n",
        "      if a != b and intersect(a[0],a[1],b[0],b[1]): return False\n",
        "  return True"
      ],
      "metadata": {
        "id": "MplR5ueKrU8z"
      },
      "execution_count": null,
      "outputs": []
    },
    {
      "cell_type": "code",
      "source": [
        "def generate_edges(vertices):\n",
        "  edges = []\n",
        "  for u in range(len(vertices)):\n",
        "    for v in range(u+1,len(vertices)):\n",
        "      if u != v: edges.append((vertices[u],vertices[v]))\n",
        "  return edges\n",
        "\n",
        "def from_part_to_forests(part):\n",
        "  forests = []\n",
        "  for p in range(len(part)):\n",
        "    forests.append([])\n",
        "    for e in part[p]:\n",
        "      forests[p].append(edges[e])\n",
        "  return forests\n",
        "\n",
        "def from_part_to_forests_data(part,edges_data):\n",
        "  forests_data = []\n",
        "  for p in range(len(part)):\n",
        "    forests_data.append([])\n",
        "    for e in (part[p]):\n",
        "      forests_data[p].append(edges_data[e])\n",
        "  return forests_data"
      ],
      "metadata": {
        "id": "lksBMBZlk7TW"
      },
      "execution_count": null,
      "outputs": []
    },
    {
      "cell_type": "code",
      "source": [
        "def check_sf_partition(partition, n):\n",
        "  fs = from_part_to_forests(partition)\n",
        "  for f in fs:\n",
        "    if not check_star_forest(f,vertices,n): return False\n",
        "  return True"
      ],
      "metadata": {
        "id": "Opt8f3KQnAx1"
      },
      "execution_count": null,
      "outputs": []
    },
    {
      "cell_type": "code",
      "source": [
        "def check_pointset(m,n):\n",
        "  vertices_data = data[m:m+n]\n",
        "  edges_data = generate_edges(vertices_data)\n",
        "  j = 0\n",
        "  res = []\n",
        "  for check in valid_sfs:\n",
        "    if j%30 == 0: print('checked {} partitions'.format(j))\n",
        "    j+=1\n",
        "    forests_data = from_part_to_forests_data(check,edges_data)\n",
        "    if check_forests_planar(forests_data): res.append(check)\n",
        "  return (vertices_data,res)\n",
        "\n",
        "def check_forests_planar(fore):\n",
        "  for fo in fore:\n",
        "    if not check_planar(fo): return False\n",
        "  return True\n"
      ],
      "metadata": {
        "id": "oqL-2AmRNqIl"
      },
      "execution_count": null,
      "outputs": []
    },
    {
      "cell_type": "code",
      "source": [
        "vertices = [i for i in range(6)]\n",
        "edges = generate_edges(vertices)\n",
        "\n",
        "print(len(colorings))\n",
        "\n",
        "k=0\n",
        "valid_sfs = []\n",
        "for c in colorings:\n",
        "  if k%10000000 == 0: print('checked {} partitions'.format(k))\n",
        "  k+=1\n",
        "  if check_sf_partition(c,6): valid_sfs.append(c)\n",
        "\n",
        "print(len(valid_sfs))"
      ],
      "metadata": {
        "colab": {
          "base_uri": "https://localhost:8080/"
        },
        "id": "jVoHiQtmHmrh",
        "outputId": "d10b3f93-daff-4ed7-ae43-002b674f322c"
      },
      "execution_count": null,
      "outputs": [
        {
          "output_type": "stream",
          "name": "stdout",
          "text": [
            "42355950\n",
            "checked 0 partitions\n",
            "checked 10000000 partitions\n",
            "checked 20000000 partitions\n",
            "checked 30000000 partitions\n",
            "checked 40000000 partitions\n",
            "120\n"
          ]
        }
      ]
    },
    {
      "cell_type": "code",
      "source": [
        "check_sf_partition([[2, 3, 5, 11], [4, 8, 9, 12], [1, 7, 13], [0, 6, 10, 14]],6)"
      ],
      "metadata": {
        "colab": {
          "base_uri": "https://localhost:8080/"
        },
        "id": "I4WOzugZ3Dkq",
        "outputId": "dbe03e20-24f7-4c47-9a7f-909ac4a45daa"
      },
      "execution_count": null,
      "outputs": [
        {
          "output_type": "execute_result",
          "data": {
            "text/plain": [
              "True"
            ]
          },
          "metadata": {},
          "execution_count": 217
        }
      ]
    },
    {
      "cell_type": "code",
      "source": [
        "check_pointset(90,6)"
      ],
      "metadata": {
        "colab": {
          "base_uri": "https://localhost:8080/"
        },
        "id": "6srToRdUdELC",
        "outputId": "90ec2763-61ca-4e7e-aabb-599d03fcb961"
      },
      "execution_count": null,
      "outputs": [
        {
          "output_type": "stream",
          "name": "stdout",
          "text": [
            "checked 0 partitions\n",
            "checked 30 partitions\n",
            "checked 60 partitions\n",
            "checked 90 partitions\n"
          ]
        },
        {
          "output_type": "execute_result",
          "data": {
            "text/plain": [
              "([[29, 21], [107, 235], [80, 104], [148, 119], [109, 65], [226, 89]],\n",
              " [[[0, 6, 10, 11], [1, 4, 7, 12], [3, 5, 13], [2, 8, 9, 14]],\n",
              "  [[0, 3, 9, 11], [2, 5, 8, 12], [4, 7, 10, 13], [1, 6, 14]]])"
            ]
          },
          "metadata": {},
          "execution_count": 228
        }
      ]
    },
    {
      "cell_type": "code",
      "source": [
        "[[2, 3, 5, 11], [4, 8, 9, 12], [1, 7, 13], [0, 6, 10, 14]] in valid_sfs"
      ],
      "metadata": {
        "colab": {
          "base_uri": "https://localhost:8080/"
        },
        "id": "DCly6ICj89MO",
        "outputId": "8598225d-23b3-467b-e7e5-a5577e21eac9"
      },
      "execution_count": null,
      "outputs": [
        {
          "output_type": "execute_result",
          "data": {
            "text/plain": [
              "True"
            ]
          },
          "metadata": {},
          "execution_count": 224
        }
      ]
    },
    {
      "cell_type": "code",
      "source": [
        "check_pointset(84,6)"
      ],
      "metadata": {
        "colab": {
          "base_uri": "https://localhost:8080/"
        },
        "id": "NqFTtkLby-ez",
        "outputId": "c87e3672-c694-4fce-8007-f30bdc161a98"
      },
      "execution_count": null,
      "outputs": [
        {
          "output_type": "stream",
          "name": "stdout",
          "text": [
            "checked 0 partitions\n",
            "checked 30 partitions\n",
            "checked 60 partitions\n",
            "checked 90 partitions\n"
          ]
        },
        {
          "output_type": "execute_result",
          "data": {
            "text/plain": [
              "([[5, 240], [253, 136], [194, 131], [63, 182], [101, 83], [65, 15]],\n",
              " [[[3, 4, 5, 6], [0, 11, 12], [2, 7, 10, 13], [1, 8, 9, 14]],\n",
              "  [[2, 4, 5, 7], [0, 11, 12], [1, 8, 10, 13], [3, 6, 9, 14]],\n",
              "  [[3, 8, 9], [2, 4, 7, 10], [1, 5, 12, 13], [0, 6, 11, 14]],\n",
              "  [[4, 7, 9], [3, 6, 8, 10], [1, 5, 12, 13], [0, 2, 11, 14]],\n",
              "  [[3, 8, 9], [2, 6, 10, 11], [1, 4, 7, 12], [0, 5, 13, 14]],\n",
              "  [[4, 7, 9], [2, 6, 10, 11], [3, 5, 8, 12], [0, 1, 13, 14]],\n",
              "  [[2, 7, 8, 9], [3, 6, 11], [0, 4, 10, 12], [1, 5, 13, 14]],\n",
              "  [[3, 8, 9], [2, 6, 10, 11], [4, 5, 7, 13], [0, 1, 12, 14]],\n",
              "  [[3, 4, 5, 9], [0, 8, 10, 12], [1, 7, 13], [2, 6, 11, 14]],\n",
              "  [[3, 4, 5, 9], [1, 8, 12], [2, 7, 10, 13], [0, 6, 11, 14]],\n",
              "  [[2, 4, 7, 10], [3, 6, 11], [0, 5, 12, 13], [1, 8, 9, 14]],\n",
              "  [[4, 8, 9, 10], [3, 6, 11], [2, 5, 7, 13], [0, 1, 12, 14]],\n",
              "  [[0, 4, 9, 10], [2, 8, 11, 12], [1, 7, 13], [3, 5, 6, 14]],\n",
              "  [[0, 4, 9, 10], [3, 5, 8, 12], [1, 7, 13], [2, 6, 11, 14]],\n",
              "  [[0, 2, 10, 11], [3, 5, 8, 12], [1, 7, 13], [4, 6, 9, 14]],\n",
              "  [[0, 2, 10, 11], [1, 8, 12], [4, 5, 7, 13], [3, 6, 9, 14]],\n",
              "  [[3, 6, 11], [0, 4, 10, 12], [2, 5, 7, 13], [1, 8, 9, 14]],\n",
              "  [[0, 3, 9, 11], [1, 8, 12], [2, 7, 10, 13], [4, 5, 6, 14]]])"
            ]
          },
          "metadata": {},
          "execution_count": 229
        }
      ]
    },
    {
      "cell_type": "code",
      "source": [
        "check_pointset(78,6)"
      ],
      "metadata": {
        "colab": {
          "base_uri": "https://localhost:8080/"
        },
        "id": "JFOaBgyuzPRu",
        "outputId": "446768b1-8cd7-4ad4-dbd4-e1cffe00576a"
      },
      "execution_count": null,
      "outputs": [
        {
          "output_type": "stream",
          "name": "stdout",
          "text": [
            "checked 0 partitions\n",
            "checked 30 partitions\n",
            "checked 60 partitions\n",
            "checked 90 partitions\n"
          ]
        },
        {
          "output_type": "execute_result",
          "data": {
            "text/plain": [
              "([[21, 247], [235, 103], [133, 81], [86, 122], [50, 93], [20, 9]],\n",
              " [[[3, 8, 9], [2, 4, 7, 10], [1, 5, 12, 13], [0, 6, 11, 14]],\n",
              "  [[3, 4, 6, 9], [2, 7, 11], [0, 8, 10, 12], [1, 5, 13, 14]],\n",
              "  [[4, 8, 9, 10], [2, 7, 11], [0, 1, 12, 13], [3, 5, 6, 14]],\n",
              "  [[3, 6, 8, 10], [2, 7, 11], [0, 1, 12, 13], [4, 5, 9, 14]],\n",
              "  [[2, 8, 10], [4, 6, 7, 11], [0, 1, 12, 13], [3, 5, 9, 14]],\n",
              "  [[2, 4, 7, 10], [3, 6, 11], [0, 5, 12, 13], [1, 8, 9, 14]]])"
            ]
          },
          "metadata": {},
          "execution_count": 230
        }
      ]
    },
    {
      "cell_type": "code",
      "source": [
        "check_pointset(72,6)"
      ],
      "metadata": {
        "colab": {
          "base_uri": "https://localhost:8080/"
        },
        "id": "pxb4QsqrzTpQ",
        "outputId": "b9c47c84-bf75-482e-dc97-96dd9bd155a4"
      },
      "execution_count": null,
      "outputs": [
        {
          "output_type": "stream",
          "name": "stdout",
          "text": [
            "checked 0 partitions\n",
            "checked 30 partitions\n",
            "checked 60 partitions\n",
            "checked 90 partitions\n"
          ]
        },
        {
          "output_type": "execute_result",
          "data": {
            "text/plain": [
              "([[240, 32], [15, 7], [61, 102], [180, 75], [118, 164], [94, 249]],\n",
              " [[[3, 4, 5, 6], [0, 11, 12], [2, 7, 10, 13], [1, 8, 9, 14]],\n",
              "  [[2, 4, 5, 7], [0, 11, 12], [1, 8, 10, 13], [3, 6, 9, 14]],\n",
              "  [[3, 8, 9], [2, 4, 7, 10], [1, 5, 12, 13], [0, 6, 11, 14]],\n",
              "  [[3, 4, 6, 9], [2, 8, 10], [0, 7, 11, 13], [1, 5, 12, 14]],\n",
              "  [[3, 4, 6, 9], [2, 7, 11], [0, 8, 10, 12], [1, 5, 13, 14]],\n",
              "  [[3, 8, 9], [2, 6, 10, 11], [4, 5, 7, 13], [0, 1, 12, 14]],\n",
              "  [[3, 8, 9], [4, 6, 7, 11], [2, 5, 10, 13], [0, 1, 12, 14]],\n",
              "  [[3, 4, 6, 9], [2, 7, 11], [1, 8, 10, 13], [0, 5, 12, 14]],\n",
              "  [[3, 4, 5, 9], [1, 8, 12], [2, 7, 10, 13], [0, 6, 11, 14]],\n",
              "  [[4, 8, 9, 10], [2, 7, 11], [0, 1, 12, 13], [3, 5, 6, 14]],\n",
              "  [[3, 6, 8, 10], [2, 7, 11], [0, 1, 12, 13], [4, 5, 9, 14]],\n",
              "  [[2, 8, 10], [4, 6, 7, 11], [0, 1, 12, 13], [3, 5, 9, 14]],\n",
              "  [[2, 4, 7, 10], [3, 6, 11], [0, 5, 12, 13], [1, 8, 9, 14]],\n",
              "  [[4, 8, 9, 10], [3, 6, 11], [2, 5, 7, 13], [0, 1, 12, 14]],\n",
              "  [[2, 4, 5, 10], [1, 8, 12], [0, 7, 11, 13], [3, 6, 9, 14]],\n",
              "  [[0, 2, 10, 11], [1, 8, 12], [4, 5, 7, 13], [3, 6, 9, 14]],\n",
              "  [[3, 6, 11], [0, 4, 10, 12], [2, 5, 7, 13], [1, 8, 9, 14]],\n",
              "  [[0, 3, 9, 11], [1, 8, 12], [2, 7, 10, 13], [4, 5, 6, 14]]])"
            ]
          },
          "metadata": {},
          "execution_count": 231
        }
      ]
    },
    {
      "cell_type": "code",
      "source": [
        "check_pointset(66,6)"
      ],
      "metadata": {
        "colab": {
          "base_uri": "https://localhost:8080/"
        },
        "id": "kX3YObjuzYKG",
        "outputId": "3510a6a6-56e0-42d0-e3ca-1863d88ff5b9"
      },
      "execution_count": null,
      "outputs": [
        {
          "output_type": "stream",
          "name": "stdout",
          "text": [
            "checked 0 partitions\n",
            "checked 30 partitions\n",
            "checked 60 partitions\n",
            "checked 90 partitions\n"
          ]
        },
        {
          "output_type": "execute_result",
          "data": {
            "text/plain": [
              "([[244, 5], [3, 72], [144, 167], [178, 137], [217, 134], [221, 251]],\n",
              " [[[4, 7, 9], [3, 6, 8, 10], [1, 5, 12, 13], [0, 2, 11, 14]],\n",
              "  [[4, 7, 9], [2, 6, 10, 11], [3, 5, 8, 12], [0, 1, 13, 14]],\n",
              "  [[4, 6, 10], [3, 7, 9, 11], [2, 5, 8, 12], [0, 1, 13, 14]],\n",
              "  [[2, 8, 10], [3, 7, 9, 11], [0, 1, 12, 13], [4, 5, 6, 14]],\n",
              "  [[4, 6, 10], [3, 7, 9, 11], [0, 5, 12, 13], [1, 2, 8, 14]],\n",
              "  [[2, 8, 10], [4, 6, 7, 11], [0, 1, 12, 13], [3, 5, 9, 14]],\n",
              "  [[2, 4, 5, 10], [1, 8, 12], [0, 7, 11, 13], [3, 6, 9, 14]],\n",
              "  [[0, 2, 10, 11], [1, 8, 12], [4, 5, 7, 13], [3, 6, 9, 14]]])"
            ]
          },
          "metadata": {},
          "execution_count": 232
        }
      ]
    },
    {
      "cell_type": "code",
      "source": [
        "check_pointset(60,6)"
      ],
      "metadata": {
        "colab": {
          "base_uri": "https://localhost:8080/"
        },
        "id": "xwMLbfOazjmL",
        "outputId": "54737cb9-1c16-4144-afe2-4161a19c2f58"
      },
      "execution_count": null,
      "outputs": [
        {
          "output_type": "stream",
          "name": "stdout",
          "text": [
            "checked 0 partitions\n",
            "checked 30 partitions\n",
            "checked 60 partitions\n",
            "checked 90 partitions\n"
          ]
        },
        {
          "output_type": "execute_result",
          "data": {
            "text/plain": [
              "([[2, 238], [245, 218], [227, 130], [198, 120], [125, 147], [236, 27]], [])"
            ]
          },
          "metadata": {},
          "execution_count": 233
        }
      ]
    },
    {
      "cell_type": "code",
      "source": [
        "check_pointset(54,6)"
      ],
      "metadata": {
        "colab": {
          "base_uri": "https://localhost:8080/"
        },
        "id": "t_eFg6e5zlvv",
        "outputId": "29058fe6-d3a5-4a22-b14e-1069e8a6c158"
      },
      "execution_count": null,
      "outputs": [
        {
          "output_type": "stream",
          "name": "stdout",
          "text": [
            "checked 0 partitions\n",
            "checked 30 partitions\n",
            "checked 60 partitions\n",
            "checked 90 partitions\n"
          ]
        },
        {
          "output_type": "execute_result",
          "data": {
            "text/plain": [
              "([[207, 211], [235, 16], [170, 66], [130, 25], [89, 197], [41, 230]], [])"
            ]
          },
          "metadata": {},
          "execution_count": 234
        }
      ]
    },
    {
      "cell_type": "code",
      "source": [],
      "metadata": {
        "id": "UPelIqZYq2YG"
      },
      "execution_count": null,
      "outputs": []
    },
    {
      "cell_type": "code",
      "source": [
        "check_pointset(48,6)"
      ],
      "metadata": {
        "colab": {
          "base_uri": "https://localhost:8080/"
        },
        "id": "KHG-I4sTznz8",
        "outputId": "9a35ef20-5d6e-448c-db31-89c4b9e1bb2a"
      },
      "execution_count": null,
      "outputs": [
        {
          "output_type": "stream",
          "name": "stdout",
          "text": [
            "checked 0 partitions\n",
            "checked 30 partitions\n",
            "checked 60 partitions\n",
            "checked 90 partitions\n"
          ]
        },
        {
          "output_type": "execute_result",
          "data": {
            "text/plain": [
              "([[2, 227], [100, 243], [235, 209], [105, 202], [154, 163], [42, 13]],\n",
              " [[[3, 4, 6, 9], [2, 7, 11], [0, 8, 10, 12], [1, 5, 13, 14]],\n",
              "  [[4, 8, 9, 10], [2, 7, 11], [0, 1, 12, 13], [3, 5, 6, 14]],\n",
              "  [[4, 8, 9, 10], [3, 6, 11], [2, 5, 7, 13], [0, 1, 12, 14]]])"
            ]
          },
          "metadata": {},
          "execution_count": 236
        }
      ]
    },
    {
      "cell_type": "code",
      "source": [
        "check_pointset(42,6)"
      ],
      "metadata": {
        "colab": {
          "base_uri": "https://localhost:8080/"
        },
        "id": "PNapoXBAzqNp",
        "outputId": "d01046b9-ffe5-4a95-fa2f-5813e568e35f"
      },
      "execution_count": null,
      "outputs": [
        {
          "output_type": "stream",
          "name": "stdout",
          "text": [
            "checked 0 partitions\n",
            "checked 30 partitions\n",
            "checked 60 partitions\n",
            "checked 90 partitions\n"
          ]
        },
        {
          "output_type": "execute_result",
          "data": {
            "text/plain": [
              "([[14, 115], [105, 238], [205, 220], [118, 142], [242, 19], [74, 31]], [])"
            ]
          },
          "metadata": {},
          "execution_count": 237
        }
      ]
    },
    {
      "cell_type": "code",
      "source": [
        "check_pointset(36,6)"
      ],
      "metadata": {
        "colab": {
          "base_uri": "https://localhost:8080/"
        },
        "id": "0Ngae8knzt_J",
        "outputId": "9084502b-bffe-47dd-e57d-98318c7e71ba"
      },
      "execution_count": null,
      "outputs": [
        {
          "output_type": "stream",
          "name": "stdout",
          "text": [
            "checked 0 partitions\n",
            "checked 30 partitions\n",
            "checked 60 partitions\n",
            "checked 90 partitions\n"
          ]
        },
        {
          "output_type": "execute_result",
          "data": {
            "text/plain": [
              "([[241, 99], [164, 29], [15, 85], [73, 108], [113, 162], [44, 227]], [])"
            ]
          },
          "metadata": {},
          "execution_count": 238
        }
      ]
    },
    {
      "cell_type": "code",
      "source": [
        "check_pointset(30,6)"
      ],
      "metadata": {
        "colab": {
          "base_uri": "https://localhost:8080/"
        },
        "id": "600Ktoi5zwAE",
        "outputId": "a913d767-e37c-4f17-f871-a494cebe63d0"
      },
      "execution_count": null,
      "outputs": [
        {
          "output_type": "stream",
          "name": "stdout",
          "text": [
            "checked 0 partitions\n",
            "checked 30 partitions\n",
            "checked 60 partitions\n",
            "checked 90 partitions\n"
          ]
        },
        {
          "output_type": "execute_result",
          "data": {
            "text/plain": [
              "([[73, 201], [160, 173], [219, 83], [119, 94], [81, 135], [37, 55]], [])"
            ]
          },
          "metadata": {},
          "execution_count": 239
        }
      ]
    },
    {
      "cell_type": "code",
      "source": [
        "check_pointset(24,6)"
      ],
      "metadata": {
        "colab": {
          "base_uri": "https://localhost:8080/"
        },
        "id": "XX2nc2C3zzFk",
        "outputId": "9077fc2f-c8fc-49cb-ac0b-729dc544cadf"
      },
      "execution_count": null,
      "outputs": [
        {
          "output_type": "stream",
          "name": "stdout",
          "text": [
            "checked 0 partitions\n",
            "checked 30 partitions\n",
            "checked 60 partitions\n",
            "checked 90 partitions\n"
          ]
        },
        {
          "output_type": "execute_result",
          "data": {
            "text/plain": [
              "([[91, 10], [55, 7], [28, 249], [62, 189], [182, 108], [248, 120]], [])"
            ]
          },
          "metadata": {},
          "execution_count": 240
        }
      ]
    },
    {
      "cell_type": "code",
      "source": [
        "check_pointset(18,6)"
      ],
      "metadata": {
        "colab": {
          "base_uri": "https://localhost:8080/"
        },
        "id": "Z2GOVgZyz7Gk",
        "outputId": "4a11be5d-4673-46d5-9566-ad6c1045f968"
      },
      "execution_count": null,
      "outputs": [
        {
          "output_type": "stream",
          "name": "stdout",
          "text": [
            "checked 0 partitions\n",
            "checked 30 partitions\n",
            "checked 60 partitions\n",
            "checked 90 partitions\n"
          ]
        },
        {
          "output_type": "execute_result",
          "data": {
            "text/plain": [
              "([[0, 172], [16, 198], [241, 244], [157, 140], [101, 110], [99, 12]], [])"
            ]
          },
          "metadata": {},
          "execution_count": 241
        }
      ]
    },
    {
      "cell_type": "code",
      "source": [
        "check_pointset(12,6)"
      ],
      "metadata": {
        "colab": {
          "base_uri": "https://localhost:8080/"
        },
        "id": "6Tywmjta0kLV",
        "outputId": "022eb4ca-98b1-4ef1-ffe8-da3c5841deaa"
      },
      "execution_count": null,
      "outputs": [
        {
          "output_type": "stream",
          "name": "stdout",
          "text": [
            "checked 0 partitions\n",
            "checked 30 partitions\n",
            "checked 60 partitions\n",
            "checked 90 partitions\n"
          ]
        },
        {
          "output_type": "execute_result",
          "data": {
            "text/plain": [
              "([[113, 247], [177, 236], [249, 57], [208, 8], [93, 161], [7, 145]], [])"
            ]
          },
          "metadata": {},
          "execution_count": 242
        }
      ]
    },
    {
      "cell_type": "code",
      "source": [
        "check_pointset(6,6)"
      ],
      "metadata": {
        "colab": {
          "base_uri": "https://localhost:8080/"
        },
        "id": "cnNo1WZW0nw-",
        "outputId": "ff248ef0-56ac-446d-c351-f1c75e0ea56f"
      },
      "execution_count": null,
      "outputs": [
        {
          "output_type": "stream",
          "name": "stdout",
          "text": [
            "checked 0 partitions\n",
            "checked 30 partitions\n",
            "checked 60 partitions\n",
            "checked 90 partitions\n"
          ]
        },
        {
          "output_type": "execute_result",
          "data": {
            "text/plain": [
              "([[169, 32], [84, 4], [11, 37], [76, 255], [147, 205], [244, 198]], [])"
            ]
          },
          "metadata": {},
          "execution_count": 243
        }
      ]
    },
    {
      "cell_type": "code",
      "source": [
        "check_pointset(0,6)"
      ],
      "metadata": {
        "colab": {
          "base_uri": "https://localhost:8080/"
        },
        "id": "yJ4piJkc0pxa",
        "outputId": "e69b4f24-04fc-401f-8cdd-ca07c21fa434"
      },
      "execution_count": null,
      "outputs": [
        {
          "output_type": "stream",
          "name": "stdout",
          "text": [
            "checked 0 partitions\n",
            "checked 30 partitions\n",
            "checked 60 partitions\n",
            "checked 90 partitions\n"
          ]
        },
        {
          "output_type": "execute_result",
          "data": {
            "text/plain": [
              "([[230, 192], [248, 78], [148, 36], [54, 72], [30, 160], [126, 220]], [])"
            ]
          },
          "metadata": {},
          "execution_count": 244
        }
      ]
    },
    {
      "cell_type": "code",
      "source": [
        "intersect((107,234),(109,65),(148,119),(19,21))"
      ],
      "metadata": {
        "colab": {
          "base_uri": "https://localhost:8080/"
        },
        "id": "tQFSrzij1g8e",
        "outputId": "af4cebf9-1947-458e-d447-05dd83e094f2"
      },
      "execution_count": null,
      "outputs": [
        {
          "output_type": "execute_result",
          "data": {
            "text/plain": [
              "True"
            ]
          },
          "metadata": {},
          "execution_count": 221
        }
      ]
    }
  ]
}